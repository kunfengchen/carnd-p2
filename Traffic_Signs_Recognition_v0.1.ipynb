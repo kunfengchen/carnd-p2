{
 "cells": [
  {
   "cell_type": "markdown",
   "metadata": {},
   "source": [
    "# Self-Driving Car Engineer Nanodegree\n",
    "\n",
    "## Deep Learning\n",
    "\n",
    "## Project: Build a Traffic Sign Recognition Classifier\n",
    "\n",
    "In this notebook, a template is provided for you to implement your functionality in stages which is required to successfully complete this project. If additional code is required that cannot be included in the notebook, be sure that the Python code is successfully imported and included in your submission, if necessary. Sections that begin with **'Implementation'** in the header indicate where you should begin your implementation for your project. Note that some sections of implementation are optional, and will be marked with **'Optional'** in the header.\n",
    "\n",
    "In addition to implementing code, there will be questions that you must answer which relate to the project and your implementation. Each section where you will answer a question is preceded by a **'Question'** header. Carefully read each question and provide thorough answers in the following text boxes that begin with **'Answer:'**. Your project submission will be evaluated based on your answers to each of the questions and the implementation you provide.\n",
    "\n",
    ">**Note:** Code and Markdown cells can be executed using the **Shift + Enter** keyboard shortcut. In addition, Markdown cells can be edited by typically double-clicking the cell to enter edit mode."
   ]
  },
  {
   "cell_type": "markdown",
   "metadata": {},
   "source": [
    "---\n",
    "\n",
    "## Step 1: Dataset Exploration\n",
    "\n",
    "Visualize the German Traffic Signs Dataset. This is open ended, some suggestions include: plotting traffic signs images, plotting the count of each sign, etc. Be creative!\n",
    "\n",
    "\n",
    "The pickled data is a dictionary with 4 key/value pairs:\n",
    "\n",
    "- features -> the images pixel values, (width, height, channels)\n",
    "- labels -> the label of the traffic sign\n",
    "- sizes -> the original width and height of the image, (width, height)\n",
    "- coords -> coordinates of a bounding box around the sign in the image, (x1, y1, x2, y2)"
   ]
  },
  {
   "cell_type": "code",
   "execution_count": 1,
   "metadata": {
    "collapsed": false
   },
   "outputs": [],
   "source": [
    "# Load pickled data\n",
    "import pickle\n",
    "\n",
    "# TODO: fill this in based on where you saved the training and testing data\n",
    "training_file = 'data/train.p'\n",
    "testing_file = 'data/test.p'\n",
    "\n",
    "with open(training_file, mode='rb') as f:\n",
    "    train = pickle.load(f)\n",
    "with open(testing_file, mode='rb') as f:\n",
    "    test = pickle.load(f)\n",
    "    \n",
    "X_train, y_train = train['features'], train['labels']\n",
    "X_test, y_test = test['features'], test['labels']"
   ]
  },
  {
   "cell_type": "code",
   "execution_count": 2,
   "metadata": {
    "collapsed": false
   },
   "outputs": [
    {
     "name": "stdout",
     "output_type": "stream",
     "text": [
      "Number of training examples = 39209\n",
      "Number of testing examples = 12630\n",
      "Image data shape = (32, 32, 3)\n",
      "Number of classes = 43\n"
     ]
    }
   ],
   "source": [
    "### To start off let's do a basic data summary.\n",
    "\n",
    "# number of training examples\n",
    "n_train = len(X_train)\n",
    "\n",
    "# number of testing examples\n",
    "n_test = len(X_test)\n",
    "\n",
    "# what's the shape of an image?\n",
    "#image_shape = train['sizes'][2]\n",
    "image_shape = X_train[0].shape\n",
    "\n",
    "# how many classes are in the dataset\n",
    "n_classes = len(set(y_train))\n",
    "\n",
    "print(\"Number of training examples =\", n_train)\n",
    "print(\"Number of testing examples =\", n_test)\n",
    "print(\"Image data shape =\", image_shape)\n",
    "print(\"Number of classes =\", n_classes)"
   ]
  },
  {
   "cell_type": "code",
   "execution_count": 3,
   "metadata": {
    "collapsed": true
   },
   "outputs": [],
   "source": [
    "### Data exploration visualization goes here.\n",
    "### Feel free to use as many code cells as needed."
   ]
  },
  {
   "cell_type": "code",
   "execution_count": 4,
   "metadata": {
    "collapsed": false
   },
   "outputs": [
    {
     "data": {
      "text/plain": [
       "'Unit Test'"
      ]
     },
     "execution_count": 4,
     "metadata": {},
     "output_type": "execute_result"
    }
   ],
   "source": [
    "### y_train to one-hot Y_train\n",
    "### REF: http://stackoverflow.com/questions/29831489/numpy-1-hot-array\n",
    "\n",
    "import numpy as np\n",
    "\n",
    "def convertToOneHot(labels):\n",
    "    n_classes = max(labels) + 1\n",
    "    size_labels = len(labels)\n",
    "    onehot = np.zeros(shape=(size_labels, n_classes),dtype=np.float32)\n",
    "    onehot[np.arange(size_labels), labels] = 1.\n",
    "    return onehot\n",
    "\n",
    "\"\"\"Unit Test\"\"\"\n",
    "#print(convertToOneHot([0, 1, 2]))\n",
    "#print(convertToOneHot([2, 1, 0, 9, 5, 6, 7, 1, 3, 5]))"
   ]
  },
  {
   "cell_type": "code",
   "execution_count": 5,
   "metadata": {
    "collapsed": false
   },
   "outputs": [
    {
     "name": "stdout",
     "output_type": "stream",
     "text": [
      "[ 0  0  0 ..., 42 42 42]\n",
      "[16  1 38 ...,  6  7 10]\n",
      "(39209, 43)\n",
      "[ 0.  1.  0.  0.  0.  0.  0.  0.  0.  0.  0.  0.  0.  0.  0.  0.  0.  0.\n",
      "  0.  0.  0.  0.  0.  0.  0.  0.  0.  0.  0.  0.  0.  0.  0.  0.  0.  0.\n",
      "  0.  0.  0.  0.  0.  0.  0.]\n",
      "float32\n",
      "[ 0.  0.  0.  0.  0.  0.  0.  0.  0.  0.  0.  0.  1.  0.  0.  0.  0.  0.\n",
      "  0.  0.  0.  0.  0.  0.  0.  0.  0.  0.  0.  0.  0.  0.  0.  0.  0.  0.\n",
      "  0.  0.  0.  0.  0.  0.  0.]\n"
     ]
    }
   ],
   "source": [
    "### Y_train\n",
    "\n",
    "Y_train = convertToOneHot(y_train)\n",
    "Y_test  = convertToOneHot(y_test)\n",
    "print (y_train)\n",
    "print (y_test)\n",
    "print (Y_train.shape)\n",
    "print (Y_train[948])\n",
    "#print (Y_train)\n",
    "print (Y_train.dtype)\n",
    "print (Y_test[10])\n"
   ]
  },
  {
   "cell_type": "code",
   "execution_count": 6,
   "metadata": {
    "collapsed": false
   },
   "outputs": [
    {
     "data": {
      "image/png": "[encoded data removed]",
      "text/plain": [
       "<matplotlib.figure.Figure at 0x7fe8942e8588>"
      ]
     },
     "metadata": {},
     "output_type": "display_data"
    }
   ],
   "source": [
    "### Train data\n",
    "from matplotlib import pyplot as plt\n",
    "\n",
    "#plt.imshow(X_train[0], interpolation='nearest')\n",
    "#plt.show()\n",
    "#print (X_train[0].shape)\n",
    "\n",
    "_, (ax1, ax2, ax3, ax4, ax5) = plt.subplots(1, 5)\n",
    "ax1.imshow(X_train[0].reshape(32, 32, 3), cmap=plt.cm.Greys);\n",
    "ax2.imshow(X_train[101].reshape(32, 32, 3), cmap=plt.cm.Greys);\n",
    "ax3.imshow(X_train[201].reshape(32, 32, 3), cmap=plt.cm.Greys);\n",
    "ax4.imshow(X_train[1011].reshape(32, 32, 3), cmap=plt.cm.Greys);\n",
    "ax5.imshow(X_train[3001].reshape(32, 32, 3), cmap=plt.cm.Greys);\n",
    "plt.show()"
   ]
  },
  {
   "cell_type": "code",
   "execution_count": 7,
   "metadata": {
    "collapsed": false
   },
   "outputs": [
    {
     "data": {
      "image/png": "[encoded data removed]",
      "text/plain": [
       "<matplotlib.figure.Figure at 0x7fe8940f45c0>"
      ]
     },
     "metadata": {},
     "output_type": "display_data"
    }
   ],
   "source": [
    "### Data exploration visualization using ipywidgets\n",
    "### The wigets will make exploration interactive like a GUI\n",
    "###\n",
    "### REF: https://github.com/ipython/ipywidgets\n",
    "###\n",
    "\n",
    "\"\"\"\n",
    "Addtional requirements\n",
    "\n",
    "```\n",
    "conda install -c conda-forge ipywidgets\n",
    "```\n",
    "\n",
    "To enable this cell:\n",
    "1. please intall the addtional requirements\n",
    "2. and change the cell type from \"Markdown\" to \"Code\"\n",
    "\n",
    "To disable this cell:\n",
    "1. Chage the cell type to \"Markdown\" \n",
    "\"\"\"\n",
    "\n",
    "from __future__ import print_function\n",
    "from ipywidgets import interact, interactive, fixed, Image\n",
    "from IPython.display import display\n",
    "import ipywidgets as widgets\n",
    "\n",
    "\"\"\"\n",
    "REF: http://stackoverflow.com/questions/33742331/how-to-set-matplotlib-to-show-every-image-of-an-array\n",
    "\"\"\"\n",
    "def browse_image_interactive(images, title = 'Image'):\n",
    "    n_imgs = len(images)\n",
    "    def view_image (image = 0):\n",
    "        plt.imshow(images[image], interpolation='nearest', cmap=plt.get_cmap('gray'))\n",
    "        plt.title('{0} {1}'.format(title, image))\n",
    "        plt.show()\n",
    "    interact(view_image, image=(0, n_imgs-1))\n",
    "    \n",
    "browse_image_interactive(X_train, title='Train Image')\n",
    "#browse_image_interactive(X_test, title='Test Image')\n"
   ]
  },
  {
   "cell_type": "markdown",
   "metadata": {},
   "source": [
    "----\n",
    "\n",
    "## Step 2: Design and Test a Model Architecture\n",
    "\n",
    "Design and implement a deep learning model that learns to recognize traffic signs. Train and test your model on the [German Traffic Sign Dataset](http://benchmark.ini.rub.de/?section=gtsrb&subsection=dataset).\n",
    "\n",
    "There are various aspects to consider when thinking about this problem:\n",
    "\n",
    "- Your model can be derived from a deep feedforward net or a deep convolutional network.\n",
    "- Play around preprocessing techniques (normalization, rgb to grayscale, etc)\n",
    "- Number of examples per label (some have more than others).\n",
    "- Generate fake data.\n",
    "\n",
    "Here is an example of a [published baseline model on this problem](http://yann.lecun.com/exdb/publis/pdf/sermanet-ijcnn-11.pdf). It's not required to be familiar with the approach used in the paper but, it's good practice to try to read papers like these."
   ]
  },
  {
   "cell_type": "markdown",
   "metadata": {},
   "source": [
    "### Implementation\n",
    "\n",
    "Use the code cell (or multiple code cells, if necessary) to implement the first step of your project. Once you have completed your implementation and are satisfied with the results, be sure to thoroughly answer the questions that follow."
   ]
  },
  {
   "cell_type": "code",
   "execution_count": 8,
   "metadata": {
    "collapsed": false
   },
   "outputs": [],
   "source": [
    "### Preprocess the data here.\n",
    "### Feel free to use as many code cells as needed.\n"
   ]
  },
  {
   "cell_type": "code",
   "execution_count": 9,
   "metadata": {
    "collapsed": false
   },
   "outputs": [
    {
     "name": "stdout",
     "output_type": "stream",
     "text": [
      "26140 13069\n"
     ]
    }
   ],
   "source": [
    "### Splipt data into train and validation set\n",
    "### TODO\n",
    "num_validation = int(n_train / 3)\n",
    "num_train = n_train - num_validation\n",
    "\n",
    "print (num_train, num_validation)\n"
   ]
  },
  {
   "cell_type": "code",
   "execution_count": 10,
   "metadata": {
    "collapsed": false
   },
   "outputs": [],
   "source": [
    "## REF: https://github.com/udacity/CarND-TensorFlow-Lab\n",
    "\n",
    "#from PIL import Image\n",
    "from sklearn.model_selection import train_test_split\n",
    "from sklearn.preprocessing import LabelBinarizer\n",
    "from sklearn.utils import resample\n",
    "#from tqdm import tqdm\n",
    "\n",
    "## REF: http://stackoverflow.com/questions/12201577/how-can-i-convert-an-rgb-image-into-grayscale-in-python\n",
    "## Color to Gray\n",
    "def color_to_grey_image(\n",
    "    image, \n",
    "    use_channel=True,\n",
    "    norm_type = 0):\n",
    "    \"\"\"\n",
    "    Input:\n",
    "      image shape: (n, n, 3)\n",
    "      norm_type = 0: [-0.5, 0.5]\n",
    "    Return:\n",
    "    If use_channel:\n",
    "      return shape(n, n, 1)\n",
    "    else \n",
    "      return shape(n, n)\n",
    "    \"\"\"\n",
    "    g_image = np.mean(image, axis = -1)\n",
    "    if norm_type == 0:\n",
    "        g_image = (g_image - (255 / 2.0)) / 255\n",
    "    \n",
    "    if use_channel:\n",
    "        ret_image = np.zeros(\n",
    "            (image.shape[0], image.shape[1], 1),\n",
    "            dtype = np.float32)\n",
    "        ret_image[:,:,0] = g_image\n",
    "    else:\n",
    "        ret_image = g_image\n",
    "    return ret_image\n",
    "    \n",
    "def color_to_grey_images(\n",
    "    images,\n",
    "    use_channel=True,\n",
    "    norm_type = 0):\n",
    "    inum = len(images)\n",
    "    ishape = images[0].shape\n",
    "    g_images = np.zeros((inum, ishape[0], ishape[1], 1),\n",
    "                        dtype = np.float32)\n",
    "    for n in range(inum):\n",
    "        g_images[n] = color_to_grey_image(\n",
    "            images[n], use_channel=use_channel, norm_type=norm_type)\n",
    "    return g_images"
   ]
  },
  {
   "cell_type": "code",
   "execution_count": 11,
   "metadata": {
    "collapsed": true
   },
   "outputs": [],
   "source": [
    "###\n",
    "### REF: https://github.com/tensorflow/tensorflow/blob/master/tensorflow/tools/docker/notebooks/3_mnist_from_scratch.ipynb\n",
    "###\n",
    "\n",
    "def show_grey_image_hist(image, xrange=[-0.5, 0.5], use_channel=True):\n",
    "    s_image = image\n",
    "    if use_channel:\n",
    "        ishape = image.shape\n",
    "        s_image = np.zeros((ishape[0], ishape[1]))\n",
    "        s_image = image[:, :, 0]\n",
    "    _, (ax1, ax2) = plt.subplots(1, 2)\n",
    "    ax1.imshow(s_image, cmap=plt.cm.Greys);\n",
    "    ax2.hist(s_image, bins=20, range=xrange);\n",
    "    plt.show()\n"
   ]
  },
  {
   "cell_type": "code",
   "execution_count": 12,
   "metadata": {
    "collapsed": false
   },
   "outputs": [],
   "source": [
    "## Convert color to grey\n",
    "X_train_grey = color_to_grey_images(X_train)\n",
    "X_test_grey = color_to_grey_images(X_test)"
   ]
  },
  {
   "cell_type": "code",
   "execution_count": 13,
   "metadata": {
    "collapsed": false
   },
   "outputs": [
    {
     "data": {
      "image/png": "[encoded data removed]",
      "text/plain": [
       "<matplotlib.figure.Figure at 0x7fe85625c400>"
      ]
     },
     "metadata": {},
     "output_type": "display_data"
    },
    {
     "data": {
      "image/png": "[encoded data removed]",
      "text/plain": [
       "<matplotlib.figure.Figure at 0x7fe82e2acb00>"
      ]
     },
     "metadata": {},
     "output_type": "display_data"
    }
   ],
   "source": [
    "## Show grey image and histogram\n",
    "show_grey_image_hist(X_train_grey[10], xrange=[-0.5, 0.5])\n",
    "show_grey_image_hist(X_test_grey[10], xrange=[-0.5, 0.5])\n"
   ]
  },
  {
   "cell_type": "code",
   "execution_count": 50,
   "metadata": {
    "collapsed": false
   },
   "outputs": [
    {
     "data": {
      "text/plain": [
       "<contextlib._GeneratorContextManager at 0x7fe79c4b29e8>"
      ]
     },
     "execution_count": 50,
     "metadata": {},
     "output_type": "execute_result"
    }
   ],
   "source": [
    "## TensorFlow Session\n",
    "# Instead of\n",
    "# with tf.Session() as s:\n",
    "#  ...training / test / evaluation loop...\n",
    "#\n",
    "# Let's create a new interactive session in subsequent code cells.\n",
    "import tensorflow as tf\n",
    "\n",
    "config = tf.ConfigProto()\n",
    "config.gpu_options.allow_growth = True\n",
    "config.gpu_options.per_process_gpu_memory_fraction = 0.5\n",
    "si = tf.InteractiveSession(config=config)\n",
    "\n",
    "\n",
    "# Use our newly created session as the default for \n",
    "# subsequent operations.\n",
    "si.as_default()\n"
   ]
  },
  {
   "cell_type": "code",
   "execution_count": 51,
   "metadata": {
    "collapsed": false
   },
   "outputs": [
    {
     "name": "stdout",
     "output_type": "stream",
     "text": [
      "y_ = Tensor(\"add_22:0\", shape=(?, 43), dtype=float32)\n",
      "y_conv = Tensor(\"add_22:0\", shape=(?, 43), dtype=float32)\n",
      "h_pool2 = Tensor(\"MaxPool_13:0\", shape=(?, 8, 8, 64), dtype=float32)\n",
      "W_fc1 shape = (4096, 2048)\n",
      "W_fc2 shape = (2048, 43)\n"
     ]
    }
   ],
   "source": [
    "### REF: https://www.tensorflow.org/versions/r0.11/tutorials/mnist/pros/index.html#deep-mnist-for-experts\n",
    "### Try 1\n",
    "\n",
    "n_channels = 1 # grey color only\n",
    "n_classes = Y_train.shape[1]\n",
    "x = tf.placeholder(\n",
    "    tf.float32,[None, image_shape[0], image_shape[1], n_channels])\n",
    "y_ = tf.placeholder(tf.float32, [None, n_classes])\n",
    "\n",
    "# weight initialization\n",
    "def weight_variable(shape):\n",
    "  initial = tf.truncated_normal(shape, stddev=0.1)\n",
    "  return tf.Variable(initial)\n",
    "\n",
    "def bias_variable(shape):\n",
    "  initial = tf.constant(0.1, shape=shape)\n",
    "  return tf.Variable(initial)\n",
    "\n",
    "# Convolution and Pooling\n",
    "def conv2d(x, W):\n",
    "  return tf.nn.conv2d(x, W, strides=[1, 1, 1, 1], padding='SAME')\n",
    "\n",
    "def max_pool_2x2(x):\n",
    "  return tf.nn.max_pool(x, ksize=[1, 2, 2, 1],\n",
    "                        strides=[1, 2, 2, 1], padding='SAME')\n",
    "\n",
    "## First Convolutional Layer\n",
    "# weight tensor shape is \n",
    "#  [ patch width, patch height, num of input channels, output channels]\n",
    "W_conv1 = weight_variable([5, 5, 1, 32])\n",
    "b_conv1 = bias_variable([32])\n",
    "\n",
    "# reshape x to a 4d tensor [num of images, image width, image height, color channels]\n",
    "x_image = x\n",
    "\n",
    "# convolve x_image with weight tensor, add the bias, apply ReLu function, and max pool\n",
    "h_conv1 = tf.nn.relu(conv2d(x_image, W_conv1) + b_conv1)\n",
    "h_pool1 = max_pool_2x2(h_conv1)\n",
    "\n",
    "## Second Convolutional Layer\n",
    "# 32 input features, 64 output feature for each 5x5 patch\n",
    "W_conv2 = weight_variable([5, 5, 32, 64])\n",
    "b_conv2 = bias_variable([64])\n",
    "\n",
    "h_conv2 = tf.nn.relu(conv2d(h_pool1, W_conv2) + b_conv2)\n",
    "h_pool2 = max_pool_2x2(h_conv2)\n",
    "\n",
    "n_neurons = 2048\n",
    "## Densely Connected Layer\n",
    "# Image size has been reduced to 8x8\n",
    "# Add a fully-connected layer with n_neurons neurons.\n",
    "# Reshape the tensor from teh pooling layer into a batch of vectors,\n",
    "# multiply by a weight matrix, and a bias, and apply a RelU\n",
    "W_fc1 = weight_variable([8 * 8 * 64, n_neurons])\n",
    "b_fc1 = bias_variable([n_neurons])\n",
    "\n",
    "h_pool2_flat = tf.reshape(h_pool2, [-1, 8 * 8 *64])\n",
    "h_fc1 = tf.nn.relu(tf.matmul(h_pool2_flat, W_fc1) + b_fc1)\n",
    "\n",
    "## Dropout\n",
    "# To reduce overfitting\n",
    "# a placeholder for the probability that a neuron's output is kept during dropout\n",
    "# TensorFlow's tf.nn.dropout op automatically handles scaling neuron outputs \n",
    "# in addition to masking them, so dropout just works without any additional scaling.\n",
    "keep_prob = tf.placeholder(tf.float32)\n",
    "h_fc1_drop = tf.nn.dropout(h_fc1, keep_prob)\n",
    "\n",
    "## Readout Layer\n",
    "W_fc2 = weight_variable([n_neurons, n_classes])\n",
    "b_fc2 = bias_variable([n_classes])\n",
    "\n",
    "y_conv = tf.matmul(h_fc1_drop, W_fc2) + b_fc2\n",
    "\n",
    "print ('y_ = {}'.format(y_conv))\n",
    "print ('y_conv = {}'.format(y_conv))\n",
    "print ('h_pool2 = {}'.format(h_pool2))\n",
    "print ('W_fc1 shape = {}'.format(W_fc1.get_shape()))\n",
    "print ('W_fc2 shape = {}'.format(W_fc2.get_shape()))"
   ]
  },
  {
   "cell_type": "code",
   "execution_count": 54,
   "metadata": {
    "collapsed": false
   },
   "outputs": [],
   "source": [
    "## Train the Model\n",
    "#\n",
    "X_train_set = X_train_grey\n",
    "X_test_set = X_test_grey\n",
    "\"\"\"batch_data = X_train_set[:batch_size:, :, :]\n",
    "batch_labels = Y_train[:batch_size]\n",
    "print (batch_data.shape)\n",
    "print (batch_labels.shape)\"\"\"\n",
    "\n",
    "batch_size = 200\n",
    "train_size = Y_train.shape[0]\n",
    "#steps = 100000\n",
    "        \n",
    "cross_entropy = tf.reduce_mean(\n",
    "    tf.nn.softmax_cross_entropy_with_logits(y_conv, y_))\n",
    "train_step = tf.train.AdamOptimizer(1e-4).minimize(cross_entropy)\n",
    "correct_prediction = tf.equal(tf.argmax(y_conv,1), tf.argmax(y_,1))\n",
    "accuracy = tf.reduce_mean(tf.cast(correct_prediction, tf.float32))\n",
    "si.run(tf.initialize_all_variables())"
   ]
  },
  {
   "cell_type": "code",
   "execution_count": 75,
   "metadata": {
    "collapsed": false
   },
   "outputs": [
    {
     "name": "stdout",
     "output_type": "stream",
     "text": [
      "[16  1 38 ...,  5  7 10]\n",
      "[16  1 38 ...,  6  7 10]\n",
      "[16  1 38 ...,  6  7 10]\n",
      "[ True  True  True ..., False  True  True]\n",
      "0.912747\n"
     ]
    }
   ],
   "source": [
    "## Unit test\n",
    "Yconv = y_conv.eval(feed_dict={\n",
    "        x: X_test_set, y_: Y_test, keep_prob: 1.0})\n",
    "Y_ = y_.eval(feed_dict={\n",
    "        x: X_test_set, y_: Y_test, keep_prob: 1.0})\n",
    "Ycon_pre = np.argmax(Yconv, 1)\n",
    "Y_pre = np.argmax(Y_, 1)\n",
    "print(Ycon_pre)\n",
    "print(Y_pre)\n",
    "print(np.argmax(Y_test, 1))\n",
    "cor_pre = np.equal(Ycon_pre, Y_pre)\n",
    "print(cor_pre)\n",
    "print(np.mean(cor_pre.astype(np.float32)))"
   ]
  },
  {
   "cell_type": "code",
   "execution_count": 74,
   "metadata": {
    "collapsed": false
   },
   "outputs": [
    {
     "name": "stdout",
     "output_type": "stream",
     "text": [
      "step 0, training accuracy 0.945\n",
      "test accuracy 0.861204\n",
      "step 200, training accuracy 1\n",
      "step 400, training accuracy 0.995\n",
      "test accuracy 0.886699\n",
      "step 600, training accuracy 1\n",
      "step 800, training accuracy 1\n",
      "step 1000, training accuracy 1\n",
      "test accuracy 0.903168\n",
      "step 1200, training accuracy 1\n",
      "step 1400, training accuracy 1\n",
      "test accuracy 0.904038\n",
      "step 1600, training accuracy 1\n",
      "step 1800, training accuracy 1\n",
      "step 2000, training accuracy 1\n",
      "test accuracy 0.903722\n",
      "step 2200, training accuracy 1\n",
      "step 2400, training accuracy 0.995\n",
      "test accuracy 0.90293\n",
      "step 2600, training accuracy 1\n",
      "step 2800, training accuracy 1\n",
      "step 3000, training accuracy 1\n",
      "test accuracy 0.904751\n",
      "step 3200, training accuracy 1\n",
      "step 3400, training accuracy 1\n",
      "test accuracy 0.905384\n",
      "step 3600, training accuracy 1\n",
      "step 3800, training accuracy 1\n",
      "step 4000, training accuracy 1\n",
      "test accuracy 0.903563\n",
      "step 4200, training accuracy 1\n",
      "step 4400, training accuracy 1\n",
      "test accuracy 0.901188\n",
      "step 4600, training accuracy 1\n",
      "step 4800, training accuracy 1\n",
      "step 5000, training accuracy 1\n",
      "test accuracy 0.885274\n",
      "step 5200, training accuracy 0.99\n",
      "step 5400, training accuracy 1\n",
      "test accuracy 0.87023\n",
      "step 5600, training accuracy 1\n",
      "step 5800, training accuracy 1\n",
      "step 6000, training accuracy 1\n",
      "test accuracy 0.903009\n",
      "step 6200, training accuracy 1\n",
      "step 6400, training accuracy 1\n",
      "test accuracy 0.908868\n",
      "step 6600, training accuracy 1\n",
      "step 6800, training accuracy 1\n",
      "step 7000, training accuracy 1\n",
      "test accuracy 0.910214\n",
      "step 7200, training accuracy 1\n",
      "step 7400, training accuracy 1\n",
      "test accuracy 0.911639\n",
      "step 7600, training accuracy 1\n",
      "step 7800, training accuracy 1\n",
      "step 8000, training accuracy 1\n",
      "test accuracy 0.91156\n",
      "step 8200, training accuracy 1\n",
      "step 8400, training accuracy 1\n",
      "test accuracy 0.912669\n",
      "step 8600, training accuracy 1\n",
      "step 8800, training accuracy 1\n",
      "step 9000, training accuracy 1\n",
      "test accuracy 0.91251\n",
      "step 9200, training accuracy 1\n",
      "step 9400, training accuracy 1\n",
      "test accuracy 0.910214\n",
      "step 9600, training accuracy 1\n",
      "step 9800, training accuracy 1\n",
      "step 10000, training accuracy 1\n",
      "test accuracy 0.906968\n",
      "step 10200, training accuracy 1\n",
      "step 10400, training accuracy 1\n",
      "test accuracy 0.900792\n",
      "step 10600, training accuracy 1\n",
      "step 10800, training accuracy 1\n",
      "step 11000, training accuracy 1\n",
      "test accuracy 0.899367\n",
      "step 11200, training accuracy 1\n",
      "step 11400, training accuracy 1\n",
      "test accuracy 0.887174\n",
      "step 11600, training accuracy 1\n",
      "step 11800, training accuracy 1\n",
      "step 12000, training accuracy 1\n",
      "test accuracy 0.911085\n",
      "step 12200, training accuracy 1\n",
      "step 12400, training accuracy 1\n",
      "test accuracy 0.913065\n",
      "step 12600, training accuracy 1\n",
      "step 12800, training accuracy 1\n",
      "step 13000, training accuracy 1\n",
      "test accuracy 0.912115\n",
      "step 13200, training accuracy 1\n",
      "step 13400, training accuracy 1\n",
      "test accuracy 0.912906\n",
      "step 13600, training accuracy 1\n",
      "step 13800, training accuracy 1\n",
      "step 14000, training accuracy 1\n",
      "test accuracy 0.914807\n",
      "step 14200, training accuracy 1\n",
      "step 14400, training accuracy 1\n",
      "test accuracy 0.915361\n",
      "step 14600, training accuracy 1\n",
      "step 14800, training accuracy 1\n",
      "step 15000, training accuracy 1\n",
      "test accuracy 0.915361\n",
      "step 15200, training accuracy 1\n",
      "step 15400, training accuracy 1\n",
      "test accuracy 0.913777\n",
      "step 15600, training accuracy 1\n",
      "step 15800, training accuracy 1\n",
      "step 16000, training accuracy 1\n",
      "test accuracy 0.916153\n",
      "step 16200, training accuracy 1\n",
      "step 16400, training accuracy 1\n",
      "test accuracy 0.915757\n",
      "step 16600, training accuracy 1\n",
      "step 16800, training accuracy 1\n",
      "step 17000, training accuracy 1\n",
      "test accuracy 0.91354\n",
      "step 17200, training accuracy 1\n",
      "step 17400, training accuracy 1\n",
      "test accuracy 0.891608\n",
      "step 17600, training accuracy 1\n",
      "step 17800, training accuracy 0.855\n",
      "step 18000, training accuracy 0.99\n",
      "test accuracy 0.876723\n",
      "step 18200, training accuracy 1\n",
      "step 18400, training accuracy 1\n",
      "test accuracy 0.907522\n",
      "step 18600, training accuracy 1\n",
      "step 18800, training accuracy 1\n",
      "step 19000, training accuracy 1\n",
      "test accuracy 0.909581\n",
      "step 19200, training accuracy 1\n",
      "step 19400, training accuracy 1\n",
      "test accuracy 0.910452\n",
      "step 19600, training accuracy 1\n",
      "step 19800, training accuracy 1\n"
     ]
    }
   ],
   "source": [
    "steps = 20000\n",
    "for step in range(steps):\n",
    "    offset = (step * batch_size) % (train_size - batch_size)\n",
    "    batch_data = X_train_set[offset:(offset + batch_size), :, :, :]\n",
    "    batch_labels = Y_train[offset:(offset + batch_size)]\n",
    "    if step % 200 == 0:\n",
    "        train_accuracy = accuracy.eval(feed_dict={\n",
    "            x:batch_data, y_: batch_labels, keep_prob: 1.0})\n",
    "        print(\"step %d, training accuracy %g\"%(step, train_accuracy))\n",
    "    train_step.run(feed_dict={x: batch_data, y_: batch_labels, keep_prob: 0.5})\n",
    "    if step % 500 == 0:\n",
    "        print(\"test accuracy %g\"%accuracy.eval(feed_dict={\n",
    "        x: X_test_set, y_: Y_test, keep_prob: 1.0}))"
   ]
  },
  {
   "cell_type": "code",
   "execution_count": 34,
   "metadata": {
    "collapsed": false
   },
   "outputs": [],
   "source": [
    "###\n",
    "### REF: https://github.com/tensorflow/tensorflow/blob/master/tensorflow/tools/docker/notebooks/3_mnist_from_scratch.ipynb\n",
    "### REF: https://github.com/aymericdamien/TensorFlow-Examples/blob/master/notebooks/3_NeuralNetworks/convolutional_network.ipynb\n",
    "### REF: http://people.idsia.ch/~juergen/nn2012traffic.pdf\n",
    "### Try 2\n",
    "\n",
    "# Parameters\n",
    "learning_rate = 0.001\n",
    "training_iters = 200\n",
    "batch_size = 60\n",
    "display_step = 10\n",
    "n_channels = 1\n",
    "seed = 45\n",
    "\n",
    "X_train_set = X_train_grey\n",
    "X_test_set = X_test_grey\n",
    "\n",
    "# Network Parameters\n",
    "n_input = image_shape[0] * image_shape[1]\n",
    "n_classes = Y_train.shape[1]\n",
    "train_size = Y_train.shape[0]\n",
    "\n",
    "# tf Graph input\n",
    "#x_node = tf.placeholder(tf.float32, [None, n_input, n_channels])\n",
    "x_node = tf.placeholder(\n",
    "    tf.float32,[batch_size, image_shape[1], image_shape[0], n_channels])\n",
    "y_node = tf.placeholder(tf.float32, [batch_size, n_classes])\n",
    "#validation_node = tf.constant(\n",
    "#    tf.float32,[batch_size, image_shape[1], image_shape[0], n_channels])\n",
    "test_node = tf.constant(X_test_set)\n",
    "\n",
    "keep_prob = tf.placeholder(tf.float32) #dropout (keep probability)\n",
    "\n",
    "conv1_weights_node = tf.Variable(\n",
    "    tf.random_normal([5, 5, n_channels, 32]))\n",
    "conv1_biases_node = tf.Variable(tf.zeros([32]))\n",
    "conv2_weights_node = tf.Variable(\n",
    "    tf.random_normal([5, 5, 32, 64]))\n",
    "conv2_biases_node = tf.Variable(tf.constant(0.1, shape=[64]))\n",
    "fc1_weights_node = tf.Variable(tf.random_normal([4096, 512]))\n",
    "fc1_biases_node = tf.Variable(tf.constant(.01, shape=[512]))\n",
    "fc2_weights_node = tf.Variable(\n",
    "    tf.random_normal([512, n_classes]))\n",
    "fc2_biases_node = tf.Variable(tf.constant(0.1, shape=[n_classes]))\n",
    "    "
   ]
  },
  {
   "cell_type": "code",
   "execution_count": 35,
   "metadata": {
    "collapsed": true
   },
   "outputs": [],
   "source": [
    "###\n",
    "### REF: https://github.com/tensorflow/tensorflow/blob/master/tensorflow/tools/docker/notebooks/3_mnist_from_scratch.ipynb\n",
    "\n",
    "def mnist_model(data, train=False):\n",
    "  \"\"\"The Model definition.\"\"\"\n",
    "  # 2D convolution, with 'SAME' padding (i.e. the output feature map has\n",
    "  # shape matches the data layout: [image index, y, x, depth].\n",
    "  conv = tf.nn.conv2d(data,\n",
    "                      conv1_weights_node,\n",
    "                      strides=[1, 1, 1, 1],\n",
    "                      padding='SAME')\n",
    "\n",
    "  # Bias and rectified linear non-linearity.\n",
    "  relu = tf.nn.relu(tf.nn.bias_add(conv, conv1_biases_node))\n",
    "  \n",
    "  # Max pooling. The kernel size spec ksize also follows the layout of\n",
    "  # the data. Here we have a pooling window of 2, and a stride of 2.\n",
    "  pool = tf.nn.max_pool(relu,\n",
    "                        ksize=[1, 2, 2, 1],\n",
    "                        strides=[1, 2, 2, 1],\n",
    "                        padding='SAME')\n",
    "  conv = tf.nn.conv2d(pool,\n",
    "                      conv2_weights_node,\n",
    "                      strides=[1, 1, 1, 1],\n",
    "                      padding='SAME')\n",
    "  relu = tf.nn.relu(tf.nn.bias_add(conv, conv2_biases_node))\n",
    "  pool = tf.nn.max_pool(relu,\n",
    "                        ksize=[1, 2, 2, 1],\n",
    "                        strides=[1, 2, 2, 1],\n",
    "                        padding='SAME')\n",
    "  \n",
    "  # Reshape the feature map cuboid into a 2D matrix to feed it to the\n",
    "  # fully connected layers.\n",
    "  pool_shape = pool.get_shape().as_list()\n",
    "  reshape = tf.reshape(\n",
    "      pool,\n",
    "      [pool_shape[0], pool_shape[1] * pool_shape[2] * pool_shape[3]])\n",
    "  \n",
    "  print ('reshape.shape={}'.format(reshape.get_shape()))\n",
    "  print ('fc1_weights_node.shape={}'.format(fc1_weights_node.get_shape()))\n",
    "  # Fully connected layer. Note that the '+' operation automatically\n",
    "  # broadcasts the biases.\n",
    "  hidden = tf.nn.relu(\n",
    "        tf.matmul(reshape, fc1_weights_node) + fc1_biases_node)\n",
    "  \n",
    "  # Add a 50% dropout during training only. Dropout also scales\n",
    "  # activations such that no rescaling is needed at evaluation time.\n",
    "  if train:\n",
    "    hidden = tf.nn.dropout(hidden, 0.5, seed=seed)\n",
    "  return tf.matmul(hidden, fc2_weights_node) + fc2_biases_node\n"
   ]
  },
  {
   "cell_type": "code",
   "execution_count": 36,
   "metadata": {
    "collapsed": false
   },
   "outputs": [
    {
     "name": "stdout",
     "output_type": "stream",
     "text": [
      "reshape.shape=(60, 4096)\n",
      "fc1_weights_node.shape=(4096, 512)\n",
      "y_node.shape=(60, 43)\n",
      "logits.shape=(60, 43)\n",
      "lost=Tensor(\"Mean_20:0\", shape=(), dtype=float32)\n",
      "reshape.shape=(12630, 4096)\n",
      "fc1_weights_node.shape=(4096, 512)\n"
     ]
    }
   ],
   "source": [
    "\n",
    "# Mnist Way of Trainning\n",
    "logits = mnist_model(x_node, True)\n",
    "print ('y_node.shape={}'.format(y_node.get_shape()))\n",
    "print ('logits.shape={}'.format(logits.get_shape()))\n",
    "loss = tf.reduce_mean(tf.nn.softmax_cross_entropy_with_logits(\n",
    "  logits, y_node))\n",
    "\n",
    "\"\"\"# L2 regularization for the fully connected parameters.\n",
    "regularizers = (tf.nn.l2_loss(fc1_weights_node) + \n",
    "                tf.nn.l2_loss(fc1_biases_node) +\n",
    "                tf.nn.l2_loss(fc2_weights_node) + \n",
    "                tf.nn.l2_loss(fc2_biases_node))\n",
    "# Add the regularization term to the loss.\n",
    "loss += 5e-4 * regularizers\"\"\"\n",
    "\n",
    "# Optimizer: set up a variable that's incremented once per batch and\n",
    "# controls the learning rate decay.\n",
    "batch = tf.Variable(0)\n",
    "# Decay once per epoch, using an exponential schedule starting at 0.01.\n",
    "learning_rate = tf.train.exponential_decay(\n",
    "  0.01,                # Base learning rate.\n",
    "  batch * batch_size,  # Current index into the dataset.\n",
    "  train_size,          # Decay step.\n",
    "  0.95,                # Decay rate.\n",
    "  staircase=True)\n",
    "# Use simple momentum for the optimization.\n",
    "optimizer = tf.train.MomentumOptimizer(learning_rate,\n",
    "                                       0.9).minimize(loss,\n",
    "                                                     global_step=batch)\n",
    "\n",
    "\"\"\"optimizer = tf.train.AdamOptimizer(\n",
    "    learning_rate=learning_rate).minimize(loss)\"\"\"\n",
    "print ('lost={}'.format(loss))\n",
    "train_prediction = tf.nn.softmax(logits)\n",
    "#validation_prediction = tf.nn.softmax(mnist_model(validation_node))\n",
    "#test_prediction = tf.nn.softmax(mnist_model(y_node))\n",
    "test_prediction = tf.nn.softmax(mnist_model(test_node))"
   ]
  },
  {
   "cell_type": "code",
   "execution_count": 37,
   "metadata": {
    "collapsed": true
   },
   "outputs": [],
   "source": [
    "## TODO\n",
    "def error_rate(predictions, labels):\n",
    "  \"\"\"Return the error rate and confusions.\"\"\"\n",
    "  correct = np.sum(np.argmax(predictions, 1) == np.argmax(labels, 1))\n",
    "  total = predictions.shape[0]\n",
    "\n",
    "  error = 100.0 - (100 * float(correct) / float(total))\n",
    "\n",
    "  return error\n"
   ]
  },
  {
   "cell_type": "code",
   "execution_count": 38,
   "metadata": {
    "collapsed": true
   },
   "outputs": [],
   "source": [
    "# Initialize all the variables we defined above.\n",
    "tf.initialize_all_variables().run()"
   ]
  },
  {
   "cell_type": "code",
   "execution_count": 39,
   "metadata": {
    "collapsed": false
   },
   "outputs": [
    {
     "name": "stdout",
     "output_type": "stream",
     "text": [
      "(60, 32, 32, 1)\n",
      "(60, 43)\n",
      "(60, 32, 32, 1)\n",
      "(60, 43)\n"
     ]
    }
   ],
   "source": [
    "## Training in batch\n",
    "batch_data = X_train_grey[:batch_size:, :, :]\n",
    "batch_labels = Y_train[:batch_size]\n",
    "print (batch_data.shape)\n",
    "print (batch_labels.shape)\n",
    "print (x_node.get_shape())\n",
    "print (y_node.get_shape())\n",
    "feed_dict = {x_node: batch_data,\n",
    "             y_node: batch_labels}\n",
    "\n",
    "_, l, lr, predictions = si.run(\n",
    "    [optimizer, loss, learning_rate, train_prediction],\n",
    "    feed_dict=feed_dict)\n"
   ]
  },
  {
   "cell_type": "code",
   "execution_count": null,
   "metadata": {
    "collapsed": false
   },
   "outputs": [],
   "source": []
  },
  {
   "cell_type": "code",
   "execution_count": 40,
   "metadata": {
    "collapsed": false
   },
   "outputs": [
    {
     "name": "stdout",
     "output_type": "stream",
     "text": [
      "[ 0.  0.  0.  0.  0.  0.  0.  0.  0.  0.  0.  0.  0.  0.  0.  0.  0.  0.\n",
      "  0.  0.  0.  0.  0.  0.  0.  0.  1.  0.  0.  0.  0.  0.  0.  0.  0.  0.\n",
      "  0.  0.  0.  0.  0.  0.  0.]\n",
      "First prediction 26\n",
      "All predictions [26  0  7  0 37  9 36  5 42 31 28  5  7 12 16 16 36  0  9 16 37 30 26 16 19\n",
      " 30 20 31 30  9  0 20  4 37 14 42 37  7 31 30 20 16 37  7 12 16 37 36  7 31\n",
      " 29 21 37 29 16 31 37 37 21 21]\n",
      "All labels [0 0 0 0 0 0 0 0 0 0 0 0 0 0 0 0 0 0 0 0 0 0 0 0 0 0 0 0 0 0 0 0 0 0 0 0 0\n",
      " 0 0 0 0 0 0 0 0 0 0 0 0 0 0 0 0 0 0 0 0 0 0 0]\n",
      "54997.2 0.01\n",
      "[[ 0.  0.  0. ...,  0.  0.  0.]\n",
      " [ 1.  0.  0. ...,  0.  0.  0.]\n",
      " [ 0.  0.  0. ...,  0.  0.  0.]\n",
      " ..., \n",
      " [ 0.  0.  0. ...,  0.  0.  0.]\n",
      " [ 0.  0.  0. ...,  0.  0.  0.]\n",
      " [ 0.  0.  0. ...,  0.  0.  0.]] [[ 1.  0.  0. ...,  0.  0.  0.]\n",
      " [ 1.  0.  0. ...,  0.  0.  0.]\n",
      " [ 1.  0.  0. ...,  0.  0.  0.]\n",
      " ..., \n",
      " [ 1.  0.  0. ...,  0.  0.  0.]\n",
      " [ 1.  0.  0. ...,  0.  0.  0.]\n",
      " [ 1.  0.  0. ...,  0.  0.  0.]]\n",
      "Error = 93.33333333333333\n"
     ]
    }
   ],
   "source": [
    "\n",
    "print (predictions[0])\n",
    "print ('First prediction {}'.format(np.argmax(predictions[0])))\n",
    "\n",
    "# predictions is actually a list of BATCH_SIZE probability vectors.\n",
    "# take the highest probability for each vector.\n",
    "print ('All predictions {}'.format(np.argmax(predictions, 1)))\n",
    "print ('All labels {}'.format(np.argmax(batch_labels, 1)))\n",
    "print (l, lr)\n",
    "print (predictions, batch_labels)\n",
    "print ('Error = {}'.format(error_rate(predictions, batch_labels)))"
   ]
  },
  {
   "cell_type": "code",
   "execution_count": 41,
   "metadata": {
    "collapsed": false,
    "scrolled": true
   },
   "outputs": [
    {
     "name": "stdout",
     "output_type": "stream",
     "text": [
      "39209 30000\n",
      "Step 0 of 30000: offeset=0\n",
      "Batch loss: 0.00000 Error: 0.00000 Learning rate: 0.010000\n",
      "Step 100 of 30000: offeset=6000\n",
      "Batch loss: nan Error: 100.00000 Learning rate: 0.010000\n",
      "Step 200 of 30000: offeset=12000\n",
      "Batch loss: nan Error: 100.00000 Learning rate: 0.010000\n",
      "Step 300 of 30000: offeset=18000\n",
      "Batch loss: nan Error: 100.00000 Learning rate: 0.010000\n",
      "Step 400 of 30000: offeset=24000\n",
      "Batch loss: nan Error: 100.00000 Learning rate: 0.010000\n",
      "Step 500 of 30000: offeset=30000\n",
      "Batch loss: nan Error: 100.00000 Learning rate: 0.010000\n",
      "Step 600 of 30000: offeset=36000\n",
      "Batch loss: nan Error: 100.00000 Learning rate: 0.010000\n",
      "Step 700 of 30000: offeset=2851\n",
      "Batch loss: nan Error: 100.00000 Learning rate: 0.009500\n",
      "Step 800 of 30000: offeset=8851\n",
      "Batch loss: nan Error: 100.00000 Learning rate: 0.009500\n",
      "Step 900 of 30000: offeset=14851\n",
      "Batch loss: nan Error: 100.00000 Learning rate: 0.009500\n",
      "Step 1000 of 30000: offeset=20851\n",
      "Batch loss: nan Error: 100.00000 Learning rate: 0.009500\n",
      "Step 1100 of 30000: offeset=26851\n",
      "Batch loss: nan Error: 100.00000 Learning rate: 0.009500\n",
      "Step 1200 of 30000: offeset=32851\n",
      "Batch loss: nan Error: 100.00000 Learning rate: 0.009500\n",
      "Step 1300 of 30000: offeset=38851\n",
      "Batch loss: nan Error: 100.00000 Learning rate: 0.009500\n",
      "Step 1400 of 30000: offeset=5702\n",
      "Batch loss: nan Error: 100.00000 Learning rate: 0.009025\n",
      "Step 1500 of 30000: offeset=11702\n",
      "Batch loss: nan Error: 100.00000 Learning rate: 0.009025\n",
      "Step 1600 of 30000: offeset=17702\n",
      "Batch loss: nan Error: 100.00000 Learning rate: 0.009025\n",
      "Step 1700 of 30000: offeset=23702\n",
      "Batch loss: nan Error: 100.00000 Learning rate: 0.009025\n",
      "Step 1800 of 30000: offeset=29702\n",
      "Batch loss: nan Error: 100.00000 Learning rate: 0.009025\n",
      "Step 1900 of 30000: offeset=35702\n",
      "Batch loss: nan Error: 100.00000 Learning rate: 0.009025\n",
      "Step 2000 of 30000: offeset=2553\n",
      "Batch loss: nan Error: 100.00000 Learning rate: 0.008574\n",
      "Step 2100 of 30000: offeset=8553\n",
      "Batch loss: nan Error: 100.00000 Learning rate: 0.008574\n",
      "Step 2200 of 30000: offeset=14553\n",
      "Batch loss: nan Error: 100.00000 Learning rate: 0.008574\n",
      "Step 2300 of 30000: offeset=20553\n",
      "Batch loss: nan Error: 100.00000 Learning rate: 0.008574\n",
      "Step 2400 of 30000: offeset=26553\n",
      "Batch loss: nan Error: 100.00000 Learning rate: 0.008574\n",
      "Step 2500 of 30000: offeset=32553\n",
      "Batch loss: nan Error: 100.00000 Learning rate: 0.008574\n",
      "Step 2600 of 30000: offeset=38553\n",
      "Batch loss: nan Error: 100.00000 Learning rate: 0.008574\n",
      "Step 2700 of 30000: offeset=5404\n",
      "Batch loss: nan Error: 100.00000 Learning rate: 0.008145\n",
      "Step 2800 of 30000: offeset=11404\n",
      "Batch loss: nan Error: 100.00000 Learning rate: 0.008145\n",
      "Step 2900 of 30000: offeset=17404\n",
      "Batch loss: nan Error: 100.00000 Learning rate: 0.008145\n",
      "Step 3000 of 30000: offeset=23404\n",
      "Batch loss: nan Error: 100.00000 Learning rate: 0.008145\n",
      "Step 3100 of 30000: offeset=29404\n",
      "Batch loss: nan Error: 100.00000 Learning rate: 0.008145\n",
      "Step 3200 of 30000: offeset=35404\n",
      "Batch loss: nan Error: 100.00000 Learning rate: 0.008145\n",
      "Step 3300 of 30000: offeset=2255\n",
      "Batch loss: nan Error: 100.00000 Learning rate: 0.007738\n",
      "Step 3400 of 30000: offeset=8255\n",
      "Batch loss: nan Error: 100.00000 Learning rate: 0.007738\n",
      "Step 3500 of 30000: offeset=14255\n",
      "Batch loss: nan Error: 100.00000 Learning rate: 0.007738\n",
      "Step 3600 of 30000: offeset=20255\n",
      "Batch loss: nan Error: 100.00000 Learning rate: 0.007738\n",
      "Step 3700 of 30000: offeset=26255\n",
      "Batch loss: nan Error: 100.00000 Learning rate: 0.007738\n",
      "Step 3800 of 30000: offeset=32255\n",
      "Batch loss: nan Error: 100.00000 Learning rate: 0.007738\n",
      "Step 3900 of 30000: offeset=38255\n",
      "Batch loss: nan Error: 100.00000 Learning rate: 0.007738\n",
      "Step 4000 of 30000: offeset=5106\n",
      "Batch loss: nan Error: 100.00000 Learning rate: 0.007351\n",
      "Step 4100 of 30000: offeset=11106\n",
      "Batch loss: nan Error: 100.00000 Learning rate: 0.007351\n",
      "Step 4200 of 30000: offeset=17106\n",
      "Batch loss: nan Error: 100.00000 Learning rate: 0.007351\n",
      "Step 4300 of 30000: offeset=23106\n",
      "Batch loss: nan Error: 100.00000 Learning rate: 0.007351\n",
      "Step 4400 of 30000: offeset=29106\n",
      "Batch loss: nan Error: 100.00000 Learning rate: 0.007351\n",
      "Step 4500 of 30000: offeset=35106\n",
      "Batch loss: nan Error: 100.00000 Learning rate: 0.007351\n",
      "Step 4600 of 30000: offeset=1957\n",
      "Batch loss: nan Error: 100.00000 Learning rate: 0.006983\n",
      "Step 4700 of 30000: offeset=7957\n",
      "Batch loss: nan Error: 100.00000 Learning rate: 0.006983\n",
      "Step 4800 of 30000: offeset=13957\n",
      "Batch loss: nan Error: 100.00000 Learning rate: 0.006983\n",
      "Step 4900 of 30000: offeset=19957\n",
      "Batch loss: nan Error: 100.00000 Learning rate: 0.006983\n",
      "Step 5000 of 30000: offeset=25957\n",
      "Batch loss: nan Error: 100.00000 Learning rate: 0.006983\n",
      "Step 5100 of 30000: offeset=31957\n",
      "Batch loss: nan Error: 100.00000 Learning rate: 0.006983\n",
      "Step 5200 of 30000: offeset=37957\n",
      "Batch loss: nan Error: 100.00000 Learning rate: 0.006983\n",
      "Step 5300 of 30000: offeset=4808\n",
      "Batch loss: nan Error: 100.00000 Learning rate: 0.006634\n",
      "Step 5400 of 30000: offeset=10808\n",
      "Batch loss: nan Error: 100.00000 Learning rate: 0.006634\n",
      "Step 5500 of 30000: offeset=16808\n",
      "Batch loss: nan Error: 100.00000 Learning rate: 0.006634\n",
      "Step 5600 of 30000: offeset=22808\n",
      "Batch loss: nan Error: 100.00000 Learning rate: 0.006634\n",
      "Step 5700 of 30000: offeset=28808\n",
      "Batch loss: nan Error: 100.00000 Learning rate: 0.006634\n",
      "Step 5800 of 30000: offeset=34808\n",
      "Batch loss: nan Error: 100.00000 Learning rate: 0.006634\n",
      "Step 5900 of 30000: offeset=1659\n",
      "Batch loss: nan Error: 100.00000 Learning rate: 0.006302\n",
      "Step 6000 of 30000: offeset=7659\n",
      "Batch loss: nan Error: 100.00000 Learning rate: 0.006302\n",
      "Step 6100 of 30000: offeset=13659\n",
      "Batch loss: nan Error: 100.00000 Learning rate: 0.006302\n",
      "Step 6200 of 30000: offeset=19659\n",
      "Batch loss: nan Error: 100.00000 Learning rate: 0.006302\n",
      "Step 6300 of 30000: offeset=25659\n",
      "Batch loss: nan Error: 100.00000 Learning rate: 0.006302\n",
      "Step 6400 of 30000: offeset=31659\n",
      "Batch loss: nan Error: 100.00000 Learning rate: 0.006302\n",
      "Step 6500 of 30000: offeset=37659\n",
      "Batch loss: nan Error: 100.00000 Learning rate: 0.006302\n",
      "Step 6600 of 30000: offeset=4510\n",
      "Batch loss: nan Error: 100.00000 Learning rate: 0.005987\n",
      "Step 6700 of 30000: offeset=10510\n",
      "Batch loss: nan Error: 100.00000 Learning rate: 0.005987\n",
      "Step 6800 of 30000: offeset=16510\n",
      "Batch loss: nan Error: 100.00000 Learning rate: 0.005987\n",
      "Step 6900 of 30000: offeset=22510\n",
      "Batch loss: nan Error: 100.00000 Learning rate: 0.005987\n",
      "Step 7000 of 30000: offeset=28510\n",
      "Batch loss: nan Error: 100.00000 Learning rate: 0.005987\n",
      "Step 7100 of 30000: offeset=34510\n",
      "Batch loss: nan Error: 100.00000 Learning rate: 0.005987\n",
      "Step 7200 of 30000: offeset=1361\n",
      "Batch loss: nan Error: 100.00000 Learning rate: 0.005688\n",
      "Step 7300 of 30000: offeset=7361\n",
      "Batch loss: nan Error: 100.00000 Learning rate: 0.005688\n",
      "Step 7400 of 30000: offeset=13361\n",
      "Batch loss: nan Error: 100.00000 Learning rate: 0.005688\n",
      "Step 7500 of 30000: offeset=19361\n",
      "Batch loss: nan Error: 100.00000 Learning rate: 0.005688\n",
      "Step 7600 of 30000: offeset=25361\n",
      "Batch loss: nan Error: 100.00000 Learning rate: 0.005688\n",
      "Step 7700 of 30000: offeset=31361\n",
      "Batch loss: nan Error: 100.00000 Learning rate: 0.005688\n",
      "Step 7800 of 30000: offeset=37361\n",
      "Batch loss: nan Error: 100.00000 Learning rate: 0.005688\n",
      "Step 7900 of 30000: offeset=4212\n",
      "Batch loss: nan Error: 100.00000 Learning rate: 0.005404\n",
      "Step 8000 of 30000: offeset=10212\n",
      "Batch loss: nan Error: 100.00000 Learning rate: 0.005404\n",
      "Step 8100 of 30000: offeset=16212\n",
      "Batch loss: nan Error: 100.00000 Learning rate: 0.005404\n",
      "Step 8200 of 30000: offeset=22212\n",
      "Batch loss: nan Error: 100.00000 Learning rate: 0.005404\n",
      "Step 8300 of 30000: offeset=28212\n",
      "Batch loss: nan Error: 100.00000 Learning rate: 0.005404\n",
      "Step 8400 of 30000: offeset=34212\n",
      "Batch loss: nan Error: 100.00000 Learning rate: 0.005404\n",
      "Step 8500 of 30000: offeset=1063\n",
      "Batch loss: nan Error: 100.00000 Learning rate: 0.005133\n",
      "Step 8600 of 30000: offeset=7063\n",
      "Batch loss: nan Error: 100.00000 Learning rate: 0.005133\n",
      "Step 8700 of 30000: offeset=13063\n",
      "Batch loss: nan Error: 100.00000 Learning rate: 0.005133\n",
      "Step 8800 of 30000: offeset=19063\n",
      "Batch loss: nan Error: 100.00000 Learning rate: 0.005133\n",
      "Step 8900 of 30000: offeset=25063\n",
      "Batch loss: nan Error: 100.00000 Learning rate: 0.005133\n",
      "Step 9000 of 30000: offeset=31063\n",
      "Batch loss: nan Error: 100.00000 Learning rate: 0.005133\n",
      "Step 9100 of 30000: offeset=37063\n",
      "Batch loss: nan Error: 100.00000 Learning rate: 0.005133\n",
      "Step 9200 of 30000: offeset=3914\n",
      "Batch loss: nan Error: 100.00000 Learning rate: 0.004877\n",
      "Step 9300 of 30000: offeset=9914\n",
      "Batch loss: nan Error: 100.00000 Learning rate: 0.004877\n",
      "Step 9400 of 30000: offeset=15914\n",
      "Batch loss: nan Error: 100.00000 Learning rate: 0.004877\n",
      "Step 9500 of 30000: offeset=21914\n",
      "Batch loss: nan Error: 100.00000 Learning rate: 0.004877\n",
      "Step 9600 of 30000: offeset=27914\n",
      "Batch loss: nan Error: 100.00000 Learning rate: 0.004877\n",
      "Step 9700 of 30000: offeset=33914\n",
      "Batch loss: nan Error: 100.00000 Learning rate: 0.004877\n",
      "Step 9800 of 30000: offeset=765\n",
      "Batch loss: nan Error: 100.00000 Learning rate: 0.004877\n",
      "Step 9900 of 30000: offeset=6765\n",
      "Batch loss: nan Error: 100.00000 Learning rate: 0.004633\n",
      "Step 10000 of 30000: offeset=12765\n",
      "Batch loss: nan Error: 100.00000 Learning rate: 0.004633\n",
      "Step 10100 of 30000: offeset=18765\n",
      "Batch loss: nan Error: 100.00000 Learning rate: 0.004633\n",
      "Step 10200 of 30000: offeset=24765\n",
      "Batch loss: nan Error: 100.00000 Learning rate: 0.004633\n",
      "Step 10300 of 30000: offeset=30765\n",
      "Batch loss: nan Error: 100.00000 Learning rate: 0.004633\n",
      "Step 10400 of 30000: offeset=36765\n",
      "Batch loss: nan Error: 100.00000 Learning rate: 0.004633\n",
      "Step 10500 of 30000: offeset=3616\n",
      "Batch loss: nan Error: 100.00000 Learning rate: 0.004401\n",
      "Step 10600 of 30000: offeset=9616\n",
      "Batch loss: nan Error: 100.00000 Learning rate: 0.004401\n",
      "Step 10700 of 30000: offeset=15616\n",
      "Batch loss: nan Error: 100.00000 Learning rate: 0.004401\n",
      "Step 10800 of 30000: offeset=21616\n",
      "Batch loss: nan Error: 100.00000 Learning rate: 0.004401\n",
      "Step 10900 of 30000: offeset=27616\n",
      "Batch loss: nan Error: 100.00000 Learning rate: 0.004401\n",
      "Step 11000 of 30000: offeset=33616\n",
      "Batch loss: nan Error: 100.00000 Learning rate: 0.004401\n",
      "Step 11100 of 30000: offeset=467\n",
      "Batch loss: nan Error: 100.00000 Learning rate: 0.004401\n",
      "Step 11200 of 30000: offeset=6467\n",
      "Batch loss: nan Error: 100.00000 Learning rate: 0.004181\n",
      "Step 11300 of 30000: offeset=12467\n",
      "Batch loss: nan Error: 100.00000 Learning rate: 0.004181\n",
      "Step 11400 of 30000: offeset=18467\n",
      "Batch loss: nan Error: 100.00000 Learning rate: 0.004181\n",
      "Step 11500 of 30000: offeset=24467\n",
      "Batch loss: nan Error: 100.00000 Learning rate: 0.004181\n",
      "Step 11600 of 30000: offeset=30467\n",
      "Batch loss: nan Error: 100.00000 Learning rate: 0.004181\n",
      "Step 11700 of 30000: offeset=36467\n",
      "Batch loss: nan Error: 100.00000 Learning rate: 0.004181\n",
      "Step 11800 of 30000: offeset=3318\n",
      "Batch loss: nan Error: 100.00000 Learning rate: 0.003972\n",
      "Step 11900 of 30000: offeset=9318\n",
      "Batch loss: nan Error: 100.00000 Learning rate: 0.003972\n",
      "Step 12000 of 30000: offeset=15318\n",
      "Batch loss: nan Error: 100.00000 Learning rate: 0.003972\n",
      "Step 12100 of 30000: offeset=21318\n",
      "Batch loss: nan Error: 100.00000 Learning rate: 0.003972\n",
      "Step 12200 of 30000: offeset=27318\n",
      "Batch loss: nan Error: 100.00000 Learning rate: 0.003972\n",
      "Step 12300 of 30000: offeset=33318\n",
      "Batch loss: nan Error: 100.00000 Learning rate: 0.003972\n",
      "Step 12400 of 30000: offeset=169\n",
      "Batch loss: nan Error: 31.66667 Learning rate: 0.003972\n",
      "Step 12500 of 30000: offeset=6169\n",
      "Batch loss: nan Error: 100.00000 Learning rate: 0.003774\n",
      "Step 12600 of 30000: offeset=12169\n",
      "Batch loss: nan Error: 100.00000 Learning rate: 0.003774\n",
      "Step 12700 of 30000: offeset=18169\n",
      "Batch loss: nan Error: 100.00000 Learning rate: 0.003774\n",
      "Step 12800 of 30000: offeset=24169\n",
      "Batch loss: nan Error: 100.00000 Learning rate: 0.003774\n",
      "Step 12900 of 30000: offeset=30169\n",
      "Batch loss: nan Error: 100.00000 Learning rate: 0.003774\n",
      "Step 13000 of 30000: offeset=36169\n",
      "Batch loss: nan Error: 100.00000 Learning rate: 0.003774\n",
      "Step 13100 of 30000: offeset=3020\n",
      "Batch loss: nan Error: 100.00000 Learning rate: 0.003585\n",
      "Step 13200 of 30000: offeset=9020\n",
      "Batch loss: nan Error: 100.00000 Learning rate: 0.003585\n",
      "Step 13300 of 30000: offeset=15020\n",
      "Batch loss: nan Error: 100.00000 Learning rate: 0.003585\n",
      "Step 13400 of 30000: offeset=21020\n",
      "Batch loss: nan Error: 100.00000 Learning rate: 0.003585\n",
      "Step 13500 of 30000: offeset=27020\n",
      "Batch loss: nan Error: 100.00000 Learning rate: 0.003585\n",
      "Step 13600 of 30000: offeset=33020\n",
      "Batch loss: nan Error: 100.00000 Learning rate: 0.003585\n",
      "Step 13700 of 30000: offeset=39020\n",
      "Batch loss: nan Error: 100.00000 Learning rate: 0.003585\n",
      "Step 13800 of 30000: offeset=5871\n",
      "Batch loss: nan Error: 100.00000 Learning rate: 0.003406\n",
      "Step 13900 of 30000: offeset=11871\n",
      "Batch loss: nan Error: 100.00000 Learning rate: 0.003406\n",
      "Step 14000 of 30000: offeset=17871\n",
      "Batch loss: nan Error: 100.00000 Learning rate: 0.003406\n",
      "Step 14100 of 30000: offeset=23871\n",
      "Batch loss: nan Error: 100.00000 Learning rate: 0.003406\n",
      "Step 14200 of 30000: offeset=29871\n",
      "Batch loss: nan Error: 100.00000 Learning rate: 0.003406\n",
      "Step 14300 of 30000: offeset=35871\n",
      "Batch loss: nan Error: 100.00000 Learning rate: 0.003406\n",
      "Step 14400 of 30000: offeset=2722\n",
      "Batch loss: nan Error: 100.00000 Learning rate: 0.003235\n",
      "Step 14500 of 30000: offeset=8722\n",
      "Batch loss: nan Error: 100.00000 Learning rate: 0.003235\n",
      "Step 14600 of 30000: offeset=14722\n",
      "Batch loss: nan Error: 100.00000 Learning rate: 0.003235\n",
      "Step 14700 of 30000: offeset=20722\n",
      "Batch loss: nan Error: 100.00000 Learning rate: 0.003235\n",
      "Step 14800 of 30000: offeset=26722\n",
      "Batch loss: nan Error: 100.00000 Learning rate: 0.003235\n",
      "Step 14900 of 30000: offeset=32722\n",
      "Batch loss: nan Error: 100.00000 Learning rate: 0.003235\n",
      "Step 15000 of 30000: offeset=38722\n",
      "Batch loss: nan Error: 100.00000 Learning rate: 0.003235\n",
      "Step 15100 of 30000: offeset=5573\n",
      "Batch loss: nan Error: 100.00000 Learning rate: 0.003074\n",
      "Step 15200 of 30000: offeset=11573\n",
      "Batch loss: nan Error: 100.00000 Learning rate: 0.003074\n",
      "Step 15300 of 30000: offeset=17573\n",
      "Batch loss: nan Error: 100.00000 Learning rate: 0.003074\n",
      "Step 15400 of 30000: offeset=23573\n",
      "Batch loss: nan Error: 100.00000 Learning rate: 0.003074\n",
      "Step 15500 of 30000: offeset=29573\n",
      "Batch loss: nan Error: 100.00000 Learning rate: 0.003074\n",
      "Step 15600 of 30000: offeset=35573\n",
      "Batch loss: nan Error: 100.00000 Learning rate: 0.003074\n",
      "Step 15700 of 30000: offeset=2424\n",
      "Batch loss: nan Error: 100.00000 Learning rate: 0.002920\n",
      "Step 15800 of 30000: offeset=8424\n",
      "Batch loss: nan Error: 100.00000 Learning rate: 0.002920\n",
      "Step 15900 of 30000: offeset=14424\n",
      "Batch loss: nan Error: 100.00000 Learning rate: 0.002920\n",
      "Step 16000 of 30000: offeset=20424\n",
      "Batch loss: nan Error: 100.00000 Learning rate: 0.002920\n",
      "Step 16100 of 30000: offeset=26424\n",
      "Batch loss: nan Error: 100.00000 Learning rate: 0.002920\n",
      "Step 16200 of 30000: offeset=32424\n",
      "Batch loss: nan Error: 100.00000 Learning rate: 0.002920\n",
      "Step 16300 of 30000: offeset=38424\n",
      "Batch loss: nan Error: 100.00000 Learning rate: 0.002920\n",
      "Step 16400 of 30000: offeset=5275\n",
      "Batch loss: nan Error: 100.00000 Learning rate: 0.002774\n",
      "Step 16500 of 30000: offeset=11275\n",
      "Batch loss: nan Error: 100.00000 Learning rate: 0.002774\n",
      "Step 16600 of 30000: offeset=17275\n",
      "Batch loss: nan Error: 100.00000 Learning rate: 0.002774\n",
      "Step 16700 of 30000: offeset=23275\n",
      "Batch loss: nan Error: 100.00000 Learning rate: 0.002774\n",
      "Step 16800 of 30000: offeset=29275\n",
      "Batch loss: nan Error: 100.00000 Learning rate: 0.002774\n",
      "Step 16900 of 30000: offeset=35275\n",
      "Batch loss: nan Error: 100.00000 Learning rate: 0.002774\n",
      "Step 17000 of 30000: offeset=2126\n",
      "Batch loss: nan Error: 100.00000 Learning rate: 0.002635\n",
      "Step 17100 of 30000: offeset=8126\n",
      "Batch loss: nan Error: 100.00000 Learning rate: 0.002635\n",
      "Step 17200 of 30000: offeset=14126\n",
      "Batch loss: nan Error: 100.00000 Learning rate: 0.002635\n",
      "Step 17300 of 30000: offeset=20126\n",
      "Batch loss: nan Error: 100.00000 Learning rate: 0.002635\n",
      "Step 17400 of 30000: offeset=26126\n",
      "Batch loss: nan Error: 100.00000 Learning rate: 0.002635\n",
      "Step 17500 of 30000: offeset=32126\n",
      "Batch loss: nan Error: 100.00000 Learning rate: 0.002635\n",
      "Step 17600 of 30000: offeset=38126\n",
      "Batch loss: nan Error: 100.00000 Learning rate: 0.002635\n",
      "Step 17700 of 30000: offeset=4977\n",
      "Batch loss: nan Error: 100.00000 Learning rate: 0.002503\n",
      "Step 17800 of 30000: offeset=10977\n",
      "Batch loss: nan Error: 100.00000 Learning rate: 0.002503\n",
      "Step 17900 of 30000: offeset=16977\n",
      "Batch loss: nan Error: 100.00000 Learning rate: 0.002503\n",
      "Step 18000 of 30000: offeset=22977\n",
      "Batch loss: nan Error: 100.00000 Learning rate: 0.002503\n",
      "Step 18100 of 30000: offeset=28977\n",
      "Batch loss: nan Error: 100.00000 Learning rate: 0.002503\n",
      "Step 18200 of 30000: offeset=34977\n",
      "Batch loss: nan Error: 100.00000 Learning rate: 0.002503\n",
      "Step 18300 of 30000: offeset=1828\n",
      "Batch loss: nan Error: 100.00000 Learning rate: 0.002378\n",
      "Step 18400 of 30000: offeset=7828\n",
      "Batch loss: nan Error: 100.00000 Learning rate: 0.002378\n",
      "Step 18500 of 30000: offeset=13828\n",
      "Batch loss: nan Error: 100.00000 Learning rate: 0.002378\n",
      "Step 18600 of 30000: offeset=19828\n",
      "Batch loss: nan Error: 100.00000 Learning rate: 0.002378\n",
      "Step 18700 of 30000: offeset=25828\n",
      "Batch loss: nan Error: 100.00000 Learning rate: 0.002378\n",
      "Step 18800 of 30000: offeset=31828\n",
      "Batch loss: nan Error: 100.00000 Learning rate: 0.002378\n",
      "Step 18900 of 30000: offeset=37828\n",
      "Batch loss: nan Error: 100.00000 Learning rate: 0.002378\n",
      "Step 19000 of 30000: offeset=4679\n",
      "Batch loss: nan Error: 100.00000 Learning rate: 0.002259\n",
      "Step 19100 of 30000: offeset=10679\n",
      "Batch loss: nan Error: 100.00000 Learning rate: 0.002259\n",
      "Step 19200 of 30000: offeset=16679\n",
      "Batch loss: nan Error: 100.00000 Learning rate: 0.002259\n",
      "Step 19300 of 30000: offeset=22679\n",
      "Batch loss: nan Error: 100.00000 Learning rate: 0.002259\n",
      "Step 19400 of 30000: offeset=28679\n",
      "Batch loss: nan Error: 100.00000 Learning rate: 0.002259\n",
      "Step 19500 of 30000: offeset=34679\n",
      "Batch loss: nan Error: 100.00000 Learning rate: 0.002259\n",
      "Step 19600 of 30000: offeset=1530\n",
      "Batch loss: nan Error: 100.00000 Learning rate: 0.002259\n",
      "Step 19700 of 30000: offeset=7530\n",
      "Batch loss: nan Error: 100.00000 Learning rate: 0.002146\n",
      "Step 19800 of 30000: offeset=13530\n",
      "Batch loss: nan Error: 100.00000 Learning rate: 0.002146\n",
      "Step 19900 of 30000: offeset=19530\n",
      "Batch loss: nan Error: 100.00000 Learning rate: 0.002146\n",
      "Step 20000 of 30000: offeset=25530\n",
      "Batch loss: nan Error: 100.00000 Learning rate: 0.002146\n",
      "Step 20100 of 30000: offeset=31530\n",
      "Batch loss: nan Error: 100.00000 Learning rate: 0.002146\n",
      "Step 20200 of 30000: offeset=37530\n",
      "Batch loss: nan Error: 100.00000 Learning rate: 0.002146\n",
      "Step 20300 of 30000: offeset=4381\n",
      "Batch loss: nan Error: 100.00000 Learning rate: 0.002039\n",
      "Step 20400 of 30000: offeset=10381\n",
      "Batch loss: nan Error: 100.00000 Learning rate: 0.002039\n",
      "Step 20500 of 30000: offeset=16381\n",
      "Batch loss: nan Error: 100.00000 Learning rate: 0.002039\n",
      "Step 20600 of 30000: offeset=22381\n",
      "Batch loss: nan Error: 100.00000 Learning rate: 0.002039\n",
      "Step 20700 of 30000: offeset=28381\n",
      "Batch loss: nan Error: 100.00000 Learning rate: 0.002039\n",
      "Step 20800 of 30000: offeset=34381\n",
      "Batch loss: nan Error: 100.00000 Learning rate: 0.002039\n",
      "Step 20900 of 30000: offeset=1232\n",
      "Batch loss: nan Error: 100.00000 Learning rate: 0.002039\n",
      "Step 21000 of 30000: offeset=7232\n",
      "Batch loss: nan Error: 100.00000 Learning rate: 0.001937\n",
      "Step 21100 of 30000: offeset=13232\n",
      "Batch loss: nan Error: 100.00000 Learning rate: 0.001937\n",
      "Step 21200 of 30000: offeset=19232\n",
      "Batch loss: nan Error: 100.00000 Learning rate: 0.001937\n",
      "Step 21300 of 30000: offeset=25232\n",
      "Batch loss: nan Error: 100.00000 Learning rate: 0.001937\n",
      "Step 21400 of 30000: offeset=31232\n",
      "Batch loss: nan Error: 100.00000 Learning rate: 0.001937\n",
      "Step 21500 of 30000: offeset=37232\n",
      "Batch loss: nan Error: 100.00000 Learning rate: 0.001937\n",
      "Step 21600 of 30000: offeset=4083\n",
      "Batch loss: nan Error: 100.00000 Learning rate: 0.001840\n",
      "Step 21700 of 30000: offeset=10083\n",
      "Batch loss: nan Error: 100.00000 Learning rate: 0.001840\n",
      "Step 21800 of 30000: offeset=16083\n",
      "Batch loss: nan Error: 100.00000 Learning rate: 0.001840\n",
      "Step 21900 of 30000: offeset=22083\n",
      "Batch loss: nan Error: 100.00000 Learning rate: 0.001840\n",
      "Step 22000 of 30000: offeset=28083\n",
      "Batch loss: nan Error: 100.00000 Learning rate: 0.001840\n",
      "Step 22100 of 30000: offeset=34083\n",
      "Batch loss: nan Error: 100.00000 Learning rate: 0.001840\n",
      "Step 22200 of 30000: offeset=934\n",
      "Batch loss: nan Error: 100.00000 Learning rate: 0.001840\n",
      "Step 22300 of 30000: offeset=6934\n",
      "Batch loss: nan Error: 100.00000 Learning rate: 0.001748\n",
      "Step 22400 of 30000: offeset=12934\n",
      "Batch loss: nan Error: 100.00000 Learning rate: 0.001748\n",
      "Step 22500 of 30000: offeset=18934\n",
      "Batch loss: nan Error: 100.00000 Learning rate: 0.001748\n",
      "Step 22600 of 30000: offeset=24934\n",
      "Batch loss: nan Error: 100.00000 Learning rate: 0.001748\n",
      "Step 22700 of 30000: offeset=30934\n",
      "Batch loss: nan Error: 100.00000 Learning rate: 0.001748\n",
      "Step 22800 of 30000: offeset=36934\n",
      "Batch loss: nan Error: 100.00000 Learning rate: 0.001748\n",
      "Step 22900 of 30000: offeset=3785\n",
      "Batch loss: nan Error: 100.00000 Learning rate: 0.001661\n",
      "Step 23000 of 30000: offeset=9785\n",
      "Batch loss: nan Error: 100.00000 Learning rate: 0.001661\n",
      "Step 23100 of 30000: offeset=15785\n",
      "Batch loss: nan Error: 100.00000 Learning rate: 0.001661\n",
      "Step 23200 of 30000: offeset=21785\n",
      "Batch loss: nan Error: 100.00000 Learning rate: 0.001661\n",
      "Step 23300 of 30000: offeset=27785\n",
      "Batch loss: nan Error: 100.00000 Learning rate: 0.001661\n",
      "Step 23400 of 30000: offeset=33785\n",
      "Batch loss: nan Error: 100.00000 Learning rate: 0.001661\n",
      "Step 23500 of 30000: offeset=636\n",
      "Batch loss: nan Error: 100.00000 Learning rate: 0.001661\n",
      "Step 23600 of 30000: offeset=6636\n",
      "Batch loss: nan Error: 100.00000 Learning rate: 0.001578\n",
      "Step 23700 of 30000: offeset=12636\n",
      "Batch loss: nan Error: 100.00000 Learning rate: 0.001578\n",
      "Step 23800 of 30000: offeset=18636\n",
      "Batch loss: nan Error: 100.00000 Learning rate: 0.001578\n",
      "Step 23900 of 30000: offeset=24636\n",
      "Batch loss: nan Error: 100.00000 Learning rate: 0.001578\n",
      "Step 24000 of 30000: offeset=30636\n",
      "Batch loss: nan Error: 100.00000 Learning rate: 0.001578\n",
      "Step 24100 of 30000: offeset=36636\n",
      "Batch loss: nan Error: 100.00000 Learning rate: 0.001578\n",
      "Step 24200 of 30000: offeset=3487\n",
      "Batch loss: nan Error: 100.00000 Learning rate: 0.001499\n",
      "Step 24300 of 30000: offeset=9487\n",
      "Batch loss: nan Error: 100.00000 Learning rate: 0.001499\n",
      "Step 24400 of 30000: offeset=15487\n",
      "Batch loss: nan Error: 100.00000 Learning rate: 0.001499\n",
      "Step 24500 of 30000: offeset=21487\n",
      "Batch loss: nan Error: 100.00000 Learning rate: 0.001499\n",
      "Step 24600 of 30000: offeset=27487\n",
      "Batch loss: nan Error: 100.00000 Learning rate: 0.001499\n",
      "Step 24700 of 30000: offeset=33487\n",
      "Batch loss: nan Error: 100.00000 Learning rate: 0.001499\n",
      "Step 24800 of 30000: offeset=338\n",
      "Batch loss: nan Error: 100.00000 Learning rate: 0.001499\n",
      "Step 24900 of 30000: offeset=6338\n",
      "Batch loss: nan Error: 100.00000 Learning rate: 0.001424\n",
      "Step 25000 of 30000: offeset=12338\n",
      "Batch loss: nan Error: 100.00000 Learning rate: 0.001424\n",
      "Step 25100 of 30000: offeset=18338\n",
      "Batch loss: nan Error: 100.00000 Learning rate: 0.001424\n",
      "Step 25200 of 30000: offeset=24338\n",
      "Batch loss: nan Error: 100.00000 Learning rate: 0.001424\n",
      "Step 25300 of 30000: offeset=30338\n",
      "Batch loss: nan Error: 100.00000 Learning rate: 0.001424\n",
      "Step 25400 of 30000: offeset=36338\n",
      "Batch loss: nan Error: 100.00000 Learning rate: 0.001424\n",
      "Step 25500 of 30000: offeset=3189\n",
      "Batch loss: nan Error: 100.00000 Learning rate: 0.001353\n",
      "Step 25600 of 30000: offeset=9189\n",
      "Batch loss: nan Error: 100.00000 Learning rate: 0.001353\n",
      "Step 25700 of 30000: offeset=15189\n",
      "Batch loss: nan Error: 100.00000 Learning rate: 0.001353\n",
      "Step 25800 of 30000: offeset=21189\n",
      "Batch loss: nan Error: 100.00000 Learning rate: 0.001353\n",
      "Step 25900 of 30000: offeset=27189\n",
      "Batch loss: nan Error: 100.00000 Learning rate: 0.001353\n",
      "Step 26000 of 30000: offeset=33189\n",
      "Batch loss: nan Error: 100.00000 Learning rate: 0.001353\n",
      "Step 26100 of 30000: offeset=40\n",
      "Batch loss: nan Error: 0.00000 Learning rate: 0.001353\n",
      "Step 26200 of 30000: offeset=6040\n",
      "Batch loss: nan Error: 100.00000 Learning rate: 0.001285\n",
      "Step 26300 of 30000: offeset=12040\n",
      "Batch loss: nan Error: 100.00000 Learning rate: 0.001285\n",
      "Step 26400 of 30000: offeset=18040\n",
      "Batch loss: nan Error: 100.00000 Learning rate: 0.001285\n",
      "Step 26500 of 30000: offeset=24040\n",
      "Batch loss: nan Error: 100.00000 Learning rate: 0.001285\n",
      "Step 26600 of 30000: offeset=30040\n",
      "Batch loss: nan Error: 100.00000 Learning rate: 0.001285\n",
      "Step 26700 of 30000: offeset=36040\n",
      "Batch loss: nan Error: 100.00000 Learning rate: 0.001285\n",
      "Step 26800 of 30000: offeset=2891\n",
      "Batch loss: nan Error: 100.00000 Learning rate: 0.001221\n",
      "Step 26900 of 30000: offeset=8891\n",
      "Batch loss: nan Error: 100.00000 Learning rate: 0.001221\n",
      "Step 27000 of 30000: offeset=14891\n",
      "Batch loss: nan Error: 100.00000 Learning rate: 0.001221\n",
      "Step 27100 of 30000: offeset=20891\n",
      "Batch loss: nan Error: 100.00000 Learning rate: 0.001221\n",
      "Step 27200 of 30000: offeset=26891\n",
      "Batch loss: nan Error: 100.00000 Learning rate: 0.001221\n",
      "Step 27300 of 30000: offeset=32891\n",
      "Batch loss: nan Error: 100.00000 Learning rate: 0.001221\n",
      "Step 27400 of 30000: offeset=38891\n",
      "Batch loss: nan Error: 100.00000 Learning rate: 0.001221\n",
      "Step 27500 of 30000: offeset=5742\n",
      "Batch loss: nan Error: 100.00000 Learning rate: 0.001160\n",
      "Step 27600 of 30000: offeset=11742\n",
      "Batch loss: nan Error: 100.00000 Learning rate: 0.001160\n",
      "Step 27700 of 30000: offeset=17742\n",
      "Batch loss: nan Error: 100.00000 Learning rate: 0.001160\n",
      "Step 27800 of 30000: offeset=23742\n",
      "Batch loss: nan Error: 100.00000 Learning rate: 0.001160\n",
      "Step 27900 of 30000: offeset=29742\n",
      "Batch loss: nan Error: 100.00000 Learning rate: 0.001160\n",
      "Step 28000 of 30000: offeset=35742\n",
      "Batch loss: nan Error: 100.00000 Learning rate: 0.001160\n",
      "Step 28100 of 30000: offeset=2593\n",
      "Batch loss: nan Error: 100.00000 Learning rate: 0.001102\n",
      "Step 28200 of 30000: offeset=8593\n",
      "Batch loss: nan Error: 100.00000 Learning rate: 0.001102\n",
      "Step 28300 of 30000: offeset=14593\n",
      "Batch loss: nan Error: 100.00000 Learning rate: 0.001102\n",
      "Step 28400 of 30000: offeset=20593\n",
      "Batch loss: nan Error: 100.00000 Learning rate: 0.001102\n",
      "Step 28500 of 30000: offeset=26593\n",
      "Batch loss: nan Error: 100.00000 Learning rate: 0.001102\n",
      "Step 28600 of 30000: offeset=32593\n",
      "Batch loss: nan Error: 100.00000 Learning rate: 0.001102\n",
      "Step 28700 of 30000: offeset=38593\n",
      "Batch loss: nan Error: 100.00000 Learning rate: 0.001102\n",
      "Step 28800 of 30000: offeset=5444\n",
      "Batch loss: nan Error: 100.00000 Learning rate: 0.001047\n",
      "Step 28900 of 30000: offeset=11444\n",
      "Batch loss: nan Error: 100.00000 Learning rate: 0.001047\n",
      "Step 29000 of 30000: offeset=17444\n",
      "Batch loss: nan Error: 100.00000 Learning rate: 0.001047\n",
      "Step 29100 of 30000: offeset=23444\n",
      "Batch loss: nan Error: 100.00000 Learning rate: 0.001047\n",
      "Step 29200 of 30000: offeset=29444\n",
      "Batch loss: nan Error: 100.00000 Learning rate: 0.001047\n",
      "Step 29300 of 30000: offeset=35444\n",
      "Batch loss: nan Error: 100.00000 Learning rate: 0.001047\n",
      "Step 29400 of 30000: offeset=2295\n",
      "Batch loss: nan Error: 100.00000 Learning rate: 0.001047\n",
      "Step 29500 of 30000: offeset=8295\n",
      "Batch loss: nan Error: 100.00000 Learning rate: 0.000994\n",
      "Step 29600 of 30000: offeset=14295\n",
      "Batch loss: nan Error: 100.00000 Learning rate: 0.000994\n",
      "Step 29700 of 30000: offeset=20295\n",
      "Batch loss: nan Error: 100.00000 Learning rate: 0.000994\n",
      "Step 29800 of 30000: offeset=26295\n",
      "Batch loss: nan Error: 100.00000 Learning rate: 0.000994\n",
      "Step 29900 of 30000: offeset=32295\n",
      "Batch loss: nan Error: 100.00000 Learning rate: 0.000994\n"
     ]
    }
   ],
   "source": [
    "steps = int(train_size / batch_size)\n",
    "steps = 30000\n",
    "print (train_size, steps)\n",
    "\n",
    "for step in range(steps):\n",
    "    offset = (step * batch_size) % (train_size - batch_size)\n",
    "    batch_data = X_train_grey[offset:(offset + batch_size), :, :, :]\n",
    "    batch_labels = Y_train[offset:(offset + batch_size)]\n",
    "    feed_dict = {x_node: batch_data,\n",
    "                y_node: batch_labels}\n",
    "    _, l, lr, predictions = si.run(\n",
    "    [optimizer, loss, learning_rate, train_prediction],\n",
    "    feed_dict=feed_dict)\n",
    "    if step % 100 == 0:\n",
    "        error = error_rate(predictions, batch_labels)\n",
    "        print('Step {} of {}: offeset={}'.format(step, steps, offset) )\n",
    "        print('Batch loss: {:.5f} Error: {:.5f} Learning rate: {:5f}'\n",
    "             .format(l, error, lr))\n",
    "        \"\"\"print('Validation error: {:.1f}'\n",
    "             .format(error_rate(\n",
    "                validation_prediction.eval(), validation_labels)[0]))\"\"\"\n",
    "        "
   ]
  },
  {
   "cell_type": "code",
   "execution_count": 42,
   "metadata": {
    "collapsed": true
   },
   "outputs": [],
   "source": [
    "si.close()"
   ]
  },
  {
   "cell_type": "markdown",
   "metadata": {},
   "source": [
    "### Question 1 \n",
    "\n",
    "_Describe the techniques used to preprocess the data._"
   ]
  },
  {
   "cell_type": "markdown",
   "metadata": {},
   "source": [
    "**Answer:**"
   ]
  },
  {
   "cell_type": "markdown",
   "metadata": {},
   "source": [
    "1. Grey scale\n",
    "2. normalize\n",
    "    [0.0, 1.0]\n",
    "    [-0.5 , 0.5]"
   ]
  },
  {
   "cell_type": "code",
   "execution_count": 43,
   "metadata": {
    "collapsed": true
   },
   "outputs": [],
   "source": [
    "### Generate data additional (if you want to!)\n",
    "### and split the data into training/validation/testing sets here.\n",
    "### Feel free to use as many code cells as needed."
   ]
  },
  {
   "cell_type": "markdown",
   "metadata": {},
   "source": [
    "### Question 2\n",
    "\n",
    "_Describe how you set up the training, validation and testing data for your model. If you generated additional data, why?_"
   ]
  },
  {
   "cell_type": "markdown",
   "metadata": {},
   "source": [
    "**Answer:**"
   ]
  },
  {
   "cell_type": "code",
   "execution_count": 44,
   "metadata": {
    "collapsed": true
   },
   "outputs": [],
   "source": [
    "### Define your architecture here.\n",
    "### Feel free to use as many code cells as needed."
   ]
  },
  {
   "cell_type": "markdown",
   "metadata": {},
   "source": [
    "### Question 3\n",
    "\n",
    "_What does your final architecture look like? (Type of model, layers, sizes, connectivity, etc.)  For reference on how to build a deep neural network using TensorFlow, see [Deep Neural Network in TensorFlow\n",
    "](https://classroom.udacity.com/nanodegrees/nd013/parts/fbf77062-5703-404e-b60c-95b78b2f3f9e/modules/6df7ae49-c61c-4bb2-a23e-6527e69209ec/lessons/b516a270-8600-4f93-a0a3-20dfeabe5da6/concepts/83a3a2a2-a9bd-4b7b-95b0-eb924ab14432) from the classroom._\n"
   ]
  },
  {
   "cell_type": "markdown",
   "metadata": {},
   "source": [
    "**Answer:**"
   ]
  },
  {
   "cell_type": "code",
   "execution_count": 45,
   "metadata": {
    "collapsed": true
   },
   "outputs": [],
   "source": [
    "### Train your model here.\n",
    "### Feel free to use as many code cells as needed.\n",
    "\n"
   ]
  },
  {
   "cell_type": "markdown",
   "metadata": {},
   "source": [
    "### Question 4\n",
    "\n",
    "_How did you train your model? (Type of optimizer, batch size, epochs, hyperparameters, etc.)_\n"
   ]
  },
  {
   "cell_type": "markdown",
   "metadata": {},
   "source": [
    "**Answer:**"
   ]
  },
  {
   "cell_type": "markdown",
   "metadata": {},
   "source": [
    "### Question 5\n",
    "\n",
    "\n",
    "_What approach did you take in coming up with a solution to this problem?_"
   ]
  },
  {
   "cell_type": "markdown",
   "metadata": {},
   "source": [
    "**Answer:**"
   ]
  },
  {
   "cell_type": "markdown",
   "metadata": {},
   "source": [
    "---\n",
    "\n",
    "## Step 3: Test a Model on New Images\n",
    "\n",
    "Take several pictures of traffic signs that you find on the web or around you (at least five), and run them through your classifier on your computer to produce example results. The classifier might not recognize some local signs but it could prove interesting nonetheless.\n",
    "\n",
    "You may find `signnames.csv` useful as it contains mappings from the class id (integer) to the actual sign name."
   ]
  },
  {
   "cell_type": "markdown",
   "metadata": {},
   "source": [
    "### Implementation\n",
    "\n",
    "Use the code cell (or multiple code cells, if necessary) to implement the first step of your project. Once you have completed your implementation and are satisfied with the results, be sure to thoroughly answer the questions that follow."
   ]
  },
  {
   "cell_type": "code",
   "execution_count": 46,
   "metadata": {
    "collapsed": true
   },
   "outputs": [],
   "source": [
    "### Load the images and plot them here.\n",
    "### Feel free to use as many code cells as needed."
   ]
  },
  {
   "cell_type": "markdown",
   "metadata": {},
   "source": [
    "### Question 6\n",
    "\n",
    "_Choose five candidate images of traffic signs and provide them in the report. Are there any particular qualities of the image(s) that might make classification difficult? It would be helpful to plot the images in the notebook._\n",
    "\n"
   ]
  },
  {
   "cell_type": "markdown",
   "metadata": {},
   "source": [
    "**Answer:**"
   ]
  },
  {
   "cell_type": "code",
   "execution_count": 47,
   "metadata": {
    "collapsed": true
   },
   "outputs": [],
   "source": [
    "### Run the predictions here.\n",
    "### Feel free to use as many code cells as needed."
   ]
  },
  {
   "cell_type": "markdown",
   "metadata": {},
   "source": [
    "### Question 7\n",
    "\n",
    "_Is your model able to perform equally well on captured pictures or a live camera stream when compared to testing on the dataset?_\n"
   ]
  },
  {
   "cell_type": "markdown",
   "metadata": {},
   "source": [
    "**Answer:**"
   ]
  },
  {
   "cell_type": "code",
   "execution_count": 48,
   "metadata": {
    "collapsed": true
   },
   "outputs": [],
   "source": [
    "### Visualize the softmax probabilities here.\n",
    "### Feel free to use as many code cells as needed."
   ]
  },
  {
   "cell_type": "markdown",
   "metadata": {},
   "source": [
    "### Question 8\n",
    "\n",
    "*Use the model's softmax probabilities to visualize the **certainty** of its predictions, [`tf.nn.top_k`](https://www.tensorflow.org/versions/r0.11/api_docs/python/nn.html#top_k) could prove helpful here. Which predictions is the model certain of? Uncertain? If the model was incorrect in its initial prediction, does the correct prediction appear in the top k? (k should be 5 at most)*\n"
   ]
  },
  {
   "cell_type": "markdown",
   "metadata": {},
   "source": [
    "**Answer:**"
   ]
  },
  {
   "cell_type": "markdown",
   "metadata": {},
   "source": [
    "### Question 9\n",
    "_If necessary, provide documentation for how an interface was built for your model to load and classify newly-acquired images._\n"
   ]
  },
  {
   "cell_type": "markdown",
   "metadata": {},
   "source": [
    "**Answer:**"
   ]
  },
  {
   "cell_type": "markdown",
   "metadata": {},
   "source": [
    "> **Note**: Once you have completed all of the code implementations and successfully answered each question above, you may finalize your work by exporting the iPython Notebook as an HTML document. You can do this by using the menu above and navigating to  \\n\",\n",
    "    \"**File -> Download as -> HTML (.html)**. Include the finished document along with this notebook as your submission."
   ]
  },
  {
   "cell_type": "code",
   "execution_count": null,
   "metadata": {
    "collapsed": true
   },
   "outputs": [],
   "source": []
  }
 ],
 "metadata": {
  "anaconda-cloud": {},
  "kernelspec": {
   "display_name": "Python 3",
   "language": "python",
   "name": "python3"
  },
  "language_info": {
   "codemirror_mode": {
    "name": "ipython",
    "version": 3
   },
   "file_extension": ".py",
   "mimetype": "text/x-python",
   "name": "python",
   "nbconvert_exporter": "python",
   "pygments_lexer": "ipython3",
   "version": "3.5.2"
  },
  "widgets": {
   "state": {
    "e8e106cf32c34e4bb4001737522d488e": {
     "views": [
      {
       "cell_index": 8
      }
     ]
    }
   },
   "version": "1.2.0"
  }
 },
 "nbformat": 4,
 "nbformat_minor": 1
}
